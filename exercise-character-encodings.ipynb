{
 "cells": [
  {
   "cell_type": "markdown",
   "id": "be2e3d64",
   "metadata": {
    "papermill": {
     "duration": 0.006811,
     "end_time": "2023-08-08T01:03:42.196692",
     "exception": false,
     "start_time": "2023-08-08T01:03:42.189881",
     "status": "completed"
    },
    "tags": []
   },
   "source": [
    "**This notebook is an exercise in the [Data Cleaning](https://www.kaggle.com/learn/data-cleaning) course.  You can reference the tutorial at [this link](https://www.kaggle.com/alexisbcook/character-encodings).**\n",
    "\n",
    "---\n"
   ]
  },
  {
   "cell_type": "markdown",
   "id": "49894fc8",
   "metadata": {
    "papermill": {
     "duration": 0.005925,
     "end_time": "2023-08-08T01:03:42.209144",
     "exception": false,
     "start_time": "2023-08-08T01:03:42.203219",
     "status": "completed"
    },
    "tags": []
   },
   "source": [
    "In this exercise, you'll apply what you learned in the **Character encodings** tutorial.\n",
    "\n",
    "# Setup\n",
    "\n",
    "The questions below will give you feedback on your work. Run the following cell to set up the feedback system."
   ]
  },
  {
   "cell_type": "code",
   "execution_count": 1,
   "id": "d0079de2",
   "metadata": {
    "execution": {
     "iopub.execute_input": "2023-08-08T01:03:42.224954Z",
     "iopub.status.busy": "2023-08-08T01:03:42.223948Z",
     "iopub.status.idle": "2023-08-08T01:03:42.325179Z",
     "shell.execute_reply": "2023-08-08T01:03:42.323814Z"
    },
    "papermill": {
     "duration": 0.112938,
     "end_time": "2023-08-08T01:03:42.328438",
     "exception": false,
     "start_time": "2023-08-08T01:03:42.215500",
     "status": "completed"
    },
    "tags": []
   },
   "outputs": [
    {
     "name": "stdout",
     "output_type": "stream",
     "text": [
      "Setup Complete\n"
     ]
    }
   ],
   "source": [
    "from learntools.core import binder\n",
    "binder.bind(globals())\n",
    "from learntools.data_cleaning.ex4 import *\n",
    "print(\"Setup Complete\")"
   ]
  },
  {
   "cell_type": "markdown",
   "id": "9802dcf8",
   "metadata": {
    "papermill": {
     "duration": 0.006269,
     "end_time": "2023-08-08T01:03:42.341204",
     "exception": false,
     "start_time": "2023-08-08T01:03:42.334935",
     "status": "completed"
    },
    "tags": []
   },
   "source": [
    "# Get our environment set up\n",
    "\n",
    "The first thing we'll need to do is load in the libraries we'll be using."
   ]
  },
  {
   "cell_type": "code",
   "execution_count": 2,
   "id": "8b245bd0",
   "metadata": {
    "execution": {
     "iopub.execute_input": "2023-08-08T01:03:42.356012Z",
     "iopub.status.busy": "2023-08-08T01:03:42.355553Z",
     "iopub.status.idle": "2023-08-08T01:03:42.361772Z",
     "shell.execute_reply": "2023-08-08T01:03:42.360455Z"
    },
    "papermill": {
     "duration": 0.016843,
     "end_time": "2023-08-08T01:03:42.364303",
     "exception": false,
     "start_time": "2023-08-08T01:03:42.347460",
     "status": "completed"
    },
    "tags": []
   },
   "outputs": [],
   "source": [
    "# modules we'll use\n",
    "import pandas as pd\n",
    "import numpy as np\n",
    "\n",
    "# helpful character encoding module\n",
    "import charset_normalizer\n",
    "\n",
    "# set seed for reproducibility\n",
    "np.random.seed(0)"
   ]
  },
  {
   "cell_type": "markdown",
   "id": "13490fbc",
   "metadata": {
    "papermill": {
     "duration": 0.006132,
     "end_time": "2023-08-08T01:03:42.376928",
     "exception": false,
     "start_time": "2023-08-08T01:03:42.370796",
     "status": "completed"
    },
    "tags": []
   },
   "source": [
    "# 1) What are encodings?\n",
    "\n",
    "You're working with a dataset composed of bytes.  Run the code cell below to print a sample entry."
   ]
  },
  {
   "cell_type": "code",
   "execution_count": 3,
   "id": "642dfb7f",
   "metadata": {
    "execution": {
     "iopub.execute_input": "2023-08-08T01:03:42.392151Z",
     "iopub.status.busy": "2023-08-08T01:03:42.391595Z",
     "iopub.status.idle": "2023-08-08T01:03:42.398953Z",
     "shell.execute_reply": "2023-08-08T01:03:42.396972Z"
    },
    "papermill": {
     "duration": 0.018273,
     "end_time": "2023-08-08T01:03:42.401561",
     "exception": false,
     "start_time": "2023-08-08T01:03:42.383288",
     "status": "completed"
    },
    "tags": []
   },
   "outputs": [
    {
     "name": "stdout",
     "output_type": "stream",
     "text": [
      "b'\\xa7A\\xa6n'\n",
      "data type: <class 'bytes'>\n"
     ]
    }
   ],
   "source": [
    "sample_entry = b'\\xa7A\\xa6n'\n",
    "print(sample_entry)\n",
    "print('data type:', type(sample_entry))"
   ]
  },
  {
   "cell_type": "markdown",
   "id": "963aff5d",
   "metadata": {
    "papermill": {
     "duration": 0.006166,
     "end_time": "2023-08-08T01:03:42.414177",
     "exception": false,
     "start_time": "2023-08-08T01:03:42.408011",
     "status": "completed"
    },
    "tags": []
   },
   "source": [
    "You notice that it doesn't use the standard UTF-8 encoding. \n",
    "\n",
    "Use the next code cell to create a variable `new_entry` that changes the encoding from `\"big5-tw\"` to `\"utf-8\"`.  `new_entry` should have the bytes datatype."
   ]
  },
  {
   "cell_type": "code",
   "execution_count": 4,
   "id": "3bbef577",
   "metadata": {
    "execution": {
     "iopub.execute_input": "2023-08-08T01:03:42.429291Z",
     "iopub.status.busy": "2023-08-08T01:03:42.428748Z",
     "iopub.status.idle": "2023-08-08T01:03:42.440945Z",
     "shell.execute_reply": "2023-08-08T01:03:42.439674Z"
    },
    "papermill": {
     "duration": 0.022709,
     "end_time": "2023-08-08T01:03:42.443311",
     "exception": false,
     "start_time": "2023-08-08T01:03:42.420602",
     "status": "completed"
    },
    "tags": []
   },
   "outputs": [
    {
     "data": {
      "application/javascript": [
       "parent.postMessage({\"jupyterEvent\": \"custom.exercise_interaction\", \"data\": {\"outcomeType\": 1, \"valueTowardsCompletion\": 0.3333333333333333, \"interactionType\": 1, \"questionType\": 1, \"questionId\": \"1_EncodingsIntro\", \"learnToolsVersion\": \"0.3.4\", \"failureMessage\": \"\", \"exceptionClass\": \"\", \"trace\": \"\"}}, \"*\")"
      ],
      "text/plain": [
       "<IPython.core.display.Javascript object>"
      ]
     },
     "metadata": {},
     "output_type": "display_data"
    },
    {
     "data": {
      "text/markdown": [
       "<span style=\"color:#33cc33\">Correct</span>"
      ],
      "text/plain": [
       "Correct"
      ]
     },
     "metadata": {},
     "output_type": "display_data"
    }
   ],
   "source": [
    "sample_entry_decoded = sample_entry.decode('big5-tw')\n",
    "new_entry = sample_entry_decoded.encode()\n",
    "\n",
    "# Check your answer\n",
    "q1.check()"
   ]
  },
  {
   "cell_type": "code",
   "execution_count": 5,
   "id": "939d7399",
   "metadata": {
    "execution": {
     "iopub.execute_input": "2023-08-08T01:03:42.461344Z",
     "iopub.status.busy": "2023-08-08T01:03:42.460807Z",
     "iopub.status.idle": "2023-08-08T01:03:42.466141Z",
     "shell.execute_reply": "2023-08-08T01:03:42.464895Z"
    },
    "papermill": {
     "duration": 0.018572,
     "end_time": "2023-08-08T01:03:42.468971",
     "exception": false,
     "start_time": "2023-08-08T01:03:42.450399",
     "status": "completed"
    },
    "tags": []
   },
   "outputs": [],
   "source": [
    "# Lines below will give you a hint or solution code\n",
    "#q1.hint()\n",
    "# q1.solution()"
   ]
  },
  {
   "cell_type": "markdown",
   "id": "acfca1c2",
   "metadata": {
    "papermill": {
     "duration": 0.006612,
     "end_time": "2023-08-08T01:03:42.482608",
     "exception": false,
     "start_time": "2023-08-08T01:03:42.475996",
     "status": "completed"
    },
    "tags": []
   },
   "source": [
    "# 2) Reading in files with encoding problems\n",
    "\n",
    "Use the code cell below to read in this file at path `\"../input/fatal-police-shootings-in-the-us/PoliceKillingsUS.csv\"`.  \n",
    "\n",
    "Figure out what the correct encoding should be and read in the file to a DataFrame `police_killings`."
   ]
  },
  {
   "cell_type": "code",
   "execution_count": 6,
   "id": "39bbf667",
   "metadata": {
    "execution": {
     "iopub.execute_input": "2023-08-08T01:03:42.498938Z",
     "iopub.status.busy": "2023-08-08T01:03:42.498472Z",
     "iopub.status.idle": "2023-08-08T01:03:43.077744Z",
     "shell.execute_reply": "2023-08-08T01:03:43.076565Z"
    },
    "papermill": {
     "duration": 0.590718,
     "end_time": "2023-08-08T01:03:43.080212",
     "exception": false,
     "start_time": "2023-08-08T01:03:42.489494",
     "status": "completed"
    },
    "tags": []
   },
   "outputs": [
    {
     "name": "stdout",
     "output_type": "stream",
     "text": [
      "{'encoding': 'windows-1250', 'language': 'English', 'confidence': 1.0}\n"
     ]
    },
    {
     "data": {
      "application/javascript": [
       "parent.postMessage({\"jupyterEvent\": \"custom.exercise_interaction\", \"data\": {\"outcomeType\": 1, \"valueTowardsCompletion\": 0.3333333333333333, \"interactionType\": 1, \"questionType\": 1, \"questionId\": \"2_ReadIn\", \"learnToolsVersion\": \"0.3.4\", \"failureMessage\": \"\", \"exceptionClass\": \"\", \"trace\": \"\"}}, \"*\")"
      ],
      "text/plain": [
       "<IPython.core.display.Javascript object>"
      ]
     },
     "metadata": {},
     "output_type": "display_data"
    },
    {
     "data": {
      "text/markdown": [
       "<span style=\"color:#33cc33\">Correct</span>"
      ],
      "text/plain": [
       "Correct"
      ]
     },
     "metadata": {},
     "output_type": "display_data"
    }
   ],
   "source": [
    "# TODO: Load in the DataFrame correctly.\n",
    "with open(\"../input/fatal-police-shootings-in-the-us/PoliceKillingsUS.csv\", 'rb') as rawdata:\n",
    "    result = charset_normalizer.detect(rawdata.read(100000))\n",
    "\n",
    "print(result)\n",
    "\n",
    "police_killings = pd.read_csv(\"../input/fatal-police-shootings-in-the-us/PoliceKillingsUS.csv\", encoding='Windows-1250')\n",
    "# police_killings = pd.read_csv(\"../input/fatal-police-shootings-in-the-us/PoliceKillingsUS.csv\")\n",
    "\n",
    "# Check your answer\n",
    "q2.check()"
   ]
  },
  {
   "cell_type": "markdown",
   "id": "cd3ce338",
   "metadata": {
    "papermill": {
     "duration": 0.007035,
     "end_time": "2023-08-08T01:03:43.094490",
     "exception": false,
     "start_time": "2023-08-08T01:03:43.087455",
     "status": "completed"
    },
    "tags": []
   },
   "source": [
    "Feel free to use any additional code cells for supplemental work.  To get credit for finishing this question, you'll need to run `q2.check()` and get a result of **Correct**."
   ]
  },
  {
   "cell_type": "code",
   "execution_count": 7,
   "id": "91294829",
   "metadata": {
    "execution": {
     "iopub.execute_input": "2023-08-08T01:03:43.111881Z",
     "iopub.status.busy": "2023-08-08T01:03:43.111341Z",
     "iopub.status.idle": "2023-08-08T01:03:43.117239Z",
     "shell.execute_reply": "2023-08-08T01:03:43.115930Z"
    },
    "papermill": {
     "duration": 0.017945,
     "end_time": "2023-08-08T01:03:43.119879",
     "exception": false,
     "start_time": "2023-08-08T01:03:43.101934",
     "status": "completed"
    },
    "tags": []
   },
   "outputs": [],
   "source": [
    "# (Optional) Use this code cell for any additional work."
   ]
  },
  {
   "cell_type": "code",
   "execution_count": 8,
   "id": "80983787",
   "metadata": {
    "execution": {
     "iopub.execute_input": "2023-08-08T01:03:43.137111Z",
     "iopub.status.busy": "2023-08-08T01:03:43.136587Z",
     "iopub.status.idle": "2023-08-08T01:03:43.146795Z",
     "shell.execute_reply": "2023-08-08T01:03:43.145485Z"
    },
    "papermill": {
     "duration": 0.021965,
     "end_time": "2023-08-08T01:03:43.149322",
     "exception": false,
     "start_time": "2023-08-08T01:03:43.127357",
     "status": "completed"
    },
    "tags": []
   },
   "outputs": [
    {
     "data": {
      "application/javascript": [
       "parent.postMessage({\"jupyterEvent\": \"custom.exercise_interaction\", \"data\": {\"interactionType\": 2, \"questionType\": 1, \"questionId\": \"2_ReadIn\", \"learnToolsVersion\": \"0.3.4\", \"valueTowardsCompletion\": 0.0, \"failureMessage\": \"\", \"exceptionClass\": \"\", \"trace\": \"\", \"outcomeType\": 4}}, \"*\")"
      ],
      "text/plain": [
       "<IPython.core.display.Javascript object>"
      ]
     },
     "metadata": {},
     "output_type": "display_data"
    },
    {
     "data": {
      "text/markdown": [
       "<span style=\"color:#3366cc\">Hint:</span> If you try to guess the encoding with the first 10,000 bytes of the file, it might give you the wrong answer.  Try using 100,000 or more lines of the file."
      ],
      "text/plain": [
       "Hint: If you try to guess the encoding with the first 10,000 bytes of the file, it might give you the wrong answer.  Try using 100,000 or more lines of the file."
      ]
     },
     "metadata": {},
     "output_type": "display_data"
    }
   ],
   "source": [
    "# Lines below will give you a hint or solution code\n",
    "q2.hint()\n",
    "# q2.solution()"
   ]
  },
  {
   "cell_type": "markdown",
   "id": "ef53b7a4",
   "metadata": {
    "papermill": {
     "duration": 0.007364,
     "end_time": "2023-08-08T01:03:43.164568",
     "exception": false,
     "start_time": "2023-08-08T01:03:43.157204",
     "status": "completed"
    },
    "tags": []
   },
   "source": [
    "# 3) Saving your files with UTF-8 encoding\n",
    "\n",
    "Save a version of the police killings dataset to CSV with UTF-8 encoding.  Your answer will be marked correct after saving this file.  \n",
    "\n",
    "Note: When using the `to_csv()` method, supply only the name of the file (e.g., `\"my_file.csv\"`).  This saves the file at the filepath `\"/kaggle/working/my_file.csv\"`."
   ]
  },
  {
   "cell_type": "code",
   "execution_count": 9,
   "id": "ffb98484",
   "metadata": {
    "execution": {
     "iopub.execute_input": "2023-08-08T01:03:43.183167Z",
     "iopub.status.busy": "2023-08-08T01:03:43.182650Z",
     "iopub.status.idle": "2023-08-08T01:03:43.242513Z",
     "shell.execute_reply": "2023-08-08T01:03:43.241311Z"
    },
    "papermill": {
     "duration": 0.072924,
     "end_time": "2023-08-08T01:03:43.245450",
     "exception": false,
     "start_time": "2023-08-08T01:03:43.172526",
     "status": "completed"
    },
    "tags": []
   },
   "outputs": [
    {
     "data": {
      "application/javascript": [
       "parent.postMessage({\"jupyterEvent\": \"custom.exercise_interaction\", \"data\": {\"outcomeType\": 1, \"valueTowardsCompletion\": 0.3333333333333333, \"interactionType\": 1, \"questionType\": 2, \"questionId\": \"3_SaveCSV\", \"learnToolsVersion\": \"0.3.4\", \"failureMessage\": \"\", \"exceptionClass\": \"\", \"trace\": \"\"}}, \"*\")"
      ],
      "text/plain": [
       "<IPython.core.display.Javascript object>"
      ]
     },
     "metadata": {},
     "output_type": "display_data"
    },
    {
     "data": {
      "text/markdown": [
       "<span style=\"color:#33cc33\">Correct</span>"
      ],
      "text/plain": [
       "Correct"
      ]
     },
     "metadata": {},
     "output_type": "display_data"
    }
   ],
   "source": [
    "# TODO: Save the police killings dataset to CSV\n",
    "police_killings.to_csv(\"police_killings.csv\")\n",
    "\n",
    "# Check your answer\n",
    "q3.check()"
   ]
  },
  {
   "cell_type": "code",
   "execution_count": 10,
   "id": "ba33e68f",
   "metadata": {
    "execution": {
     "iopub.execute_input": "2023-08-08T01:03:43.263909Z",
     "iopub.status.busy": "2023-08-08T01:03:43.263437Z",
     "iopub.status.idle": "2023-08-08T01:03:43.268415Z",
     "shell.execute_reply": "2023-08-08T01:03:43.267142Z"
    },
    "papermill": {
     "duration": 0.017516,
     "end_time": "2023-08-08T01:03:43.271005",
     "exception": false,
     "start_time": "2023-08-08T01:03:43.253489",
     "status": "completed"
    },
    "tags": []
   },
   "outputs": [],
   "source": [
    "# Lines below will give you a hint or solution code\n",
    "#q3.hint()\n",
    "#q3.solution()"
   ]
  },
  {
   "cell_type": "markdown",
   "id": "01934fb7",
   "metadata": {
    "papermill": {
     "duration": 0.008137,
     "end_time": "2023-08-08T01:03:43.287438",
     "exception": false,
     "start_time": "2023-08-08T01:03:43.279301",
     "status": "completed"
    },
    "tags": []
   },
   "source": [
    "# (Optional) More practice\n",
    "\n",
    "Check out [this dataset of files in different character encodings](https://www.kaggle.com/rtatman/character-encoding-examples). Can you read in all the files with their original encodings and them save them out as UTF-8 files?\n",
    "\n",
    "If you have a file that's in UTF-8 but has just a couple of weird-looking characters in it, you can try out the [ftfy module](https://ftfy.readthedocs.io/en/latest/#) and see if it helps. \n",
    "\n",
    "# Keep going\n",
    "\n",
    "In the final lesson, learn how to [**clean up inconsistent text entries**](https://www.kaggle.com/alexisbcook/inconsistent-data-entry) in your dataset."
   ]
  },
  {
   "cell_type": "markdown",
   "id": "8f6f6188",
   "metadata": {
    "papermill": {
     "duration": 0.007801,
     "end_time": "2023-08-08T01:03:43.303539",
     "exception": false,
     "start_time": "2023-08-08T01:03:43.295738",
     "status": "completed"
    },
    "tags": []
   },
   "source": [
    "---\n",
    "\n",
    "\n",
    "\n",
    "\n",
    "*Have questions or comments? Visit the [course discussion forum](https://www.kaggle.com/learn/data-cleaning/discussion) to chat with other learners.*"
   ]
  }
 ],
 "metadata": {
  "kernelspec": {
   "display_name": "Python 3",
   "language": "python",
   "name": "python3"
  },
  "language_info": {
   "codemirror_mode": {
    "name": "ipython",
    "version": 3
   },
   "file_extension": ".py",
   "mimetype": "text/x-python",
   "name": "python",
   "nbconvert_exporter": "python",
   "pygments_lexer": "ipython3",
   "version": "3.10.12"
  },
  "papermill": {
   "default_parameters": {},
   "duration": 16.110965,
   "end_time": "2023-08-08T01:03:44.637742",
   "environment_variables": {},
   "exception": null,
   "input_path": "__notebook__.ipynb",
   "output_path": "__notebook__.ipynb",
   "parameters": {},
   "start_time": "2023-08-08T01:03:28.526777",
   "version": "2.4.0"
  }
 },
 "nbformat": 4,
 "nbformat_minor": 5
}
